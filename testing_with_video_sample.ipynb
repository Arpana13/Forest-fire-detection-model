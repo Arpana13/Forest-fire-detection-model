{
  "nbformat": 4,
  "nbformat_minor": 0,
  "metadata": {
    "colab": {
      "provenance": []
    },
    "kernelspec": {
      "name": "python3",
      "display_name": "Python 3"
    },
    "language_info": {
      "name": "python"
    }
  },
  "cells": [
    {
      "cell_type": "code",
      "execution_count": null,
      "metadata": {
        "id": "Mi9C_OnyaWjW"
      },
      "outputs": [],
      "source": [
        "import cv2\n",
        "import numpy as np\n",
        "from tensorflow.keras.models import load_model\n",
        "from google.colab.patches import cv2_imshow\n",
        "\n",
        "model_path = '/content/fire_det.h5'\n",
        "model = load_model(model_path)\n",
        "\n",
        "video_path = '/content/sample21.mp4'\n",
        "cap = cv2.VideoCapture(video_path)\n",
        "\n",
        "\n",
        "total_frames = int(cap.get(cv2.CAP_PROP_FRAME_COUNT))\n",
        "fps = cap.get(cv2.CAP_PROP_FPS)\n",
        "\n",
        "time_interval = 1 / fps\n",
        "\n",
        "class_counts = {'s0': 0, 's1': 0, 's2': 0, 's3': 0}\n",
        "\n",
        "current_frame = 0\n",
        "while current_frame < total_frames:\n",
        "\n",
        "    cap.set(cv2.CAP_PROP_POS_FRAMES, current_frame)\n",
        "\n",
        "    ret, frame = cap.read()\n",
        "\n",
        "    if not ret:\n",
        "        break\n",
        "\n",
        "    resized_frame = cv2.resize(frame, (224, 224))\n",
        "    normalized_frame = resized_frame / 255.0\n",
        "\n",
        "    input_frame = np.expand_dims(normalized_frame, axis=0)\n",
        "    predictions = model.predict(input_frame)\n",
        "\n",
        "    predicted_class = np.argmax(predictions, axis=1)[0]\n",
        "\n",
        "    class_counts[f's{predicted_class}'] += 1\n",
        "\n",
        "    current_frame += int(fps)\n",
        "\n",
        "final_fire_stage = max(class_counts, key=class_counts.get)\n",
        "\n",
        "\n",
        "cap = cv2.VideoCapture(video_path)\n",
        "ret, final_frame = cap.read()\n",
        "cap.release()\n",
        "\n",
        "# Display the final result with the thumbnail\n",
        "cv2.putText(final_frame, f\"Final Fire Stage: {final_fire_stage}\", (10, 30), cv2.FONT_HERSHEY_SIMPLEX, 1, (0, 255, 0), 2)\n",
        "cv2_imshow(final_frame)\n",
        "cv2.waitKey(0)\n",
        "\n",
        "cap.release()\n",
        "cv2.destroyAllWindows()\n"
      ]
    }
  ]
}